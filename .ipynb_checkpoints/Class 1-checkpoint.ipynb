{
 "cells": [
  {
   "cell_type": "code",
   "execution_count": 1,
   "id": "08301343-079b-47f3-b473-e22251af3d2b",
   "metadata": {},
   "outputs": [
    {
     "name": "stdout",
     "output_type": "stream",
     "text": [
      "h\n",
      "e\n",
      "l\n",
      "l\n",
      "o\n",
      ",\n",
      " \n",
      "w\n",
      "o\n",
      "r\n",
      "l\n",
      "d\n"
     ]
    }
   ],
   "source": [
    "for char in \"hello, world\":\n",
    "    print (char)\n",
    "\n",
    "    # Press shift+enter"
   ]
  },
  {
   "cell_type": "markdown",
   "id": "46d168a5-1824-483b-b16b-88d8f86f4a42",
   "metadata": {},
   "source": [
    "# Problem 1\n",
    "\n",
    "## Anagram Check\n",
    "\n",
    "Given two strings, determine if these anagrams of each other. Your function should return True, if these are anagrams of each other, False otherwise.\n",
    "\n",
    "### Criteria\n",
    "Two strings are anagrams of each other, if *all* the criteria below are met:\n",
    "1. They must contain the same number of letters the same amount of times.\n",
    "2. They must be of equal length.\n",
    "\n",
    "```\n",
    "Examples:\n",
    "cars and scar\n",
    "star and rats\n",
    "earth and heart\n",
    "\n",
    "BUT ALSO:\n",
    "I am Lord Voldemort and Tom Marvolo Riddle\n",
    "```"
   ]
  },
  {
   "cell_type": "code",
   "execution_count": 23,
   "id": "b1a679cd-0310-4afe-8d4a-fed5570777b4",
   "metadata": {},
   "outputs": [],
   "source": [
    "# This is a poor solution to this problem:\n",
    "def anagram_check(str1, str2):\n",
    "    print(sorted(str1))\n",
    "    print(sorted(str2))"
   ]
  },
  {
   "cell_type": "code",
   "execution_count": 24,
   "id": "bd0f6a11-b5fe-4ee1-9e3a-2006d0cecee6",
   "metadata": {},
   "outputs": [
    {
     "name": "stdout",
     "output_type": "stream",
     "text": [
      "[' ', ' ', ' ', 'I', 'L', 'V', 'a', 'd', 'd', 'e', 'l', 'm', 'm', 'o', 'o', 'o', 'r', 'r', 't']\n",
      "[' ', ' ', 'M', 'R', 'T', 'a', 'd', 'd', 'e', 'i', 'l', 'l', 'm', 'o', 'o', 'o', 'r', 'v']\n"
     ]
    }
   ],
   "source": [
    "anagram_check(\"I am Lord Voldemort\", \"Tom Marvolo Riddle\")"
   ]
  },
  {
   "cell_type": "code",
   "execution_count": 6,
   "id": "8e700acc-f2fd-4915-ab4e-2e8d9bf698cc",
   "metadata": {},
   "outputs": [],
   "source": [
    "def anagram_check_char(str1):\n",
    "    return len(str1)"
   ]
  },
  {
   "cell_type": "code",
   "execution_count": 8,
   "id": "2456be56-9e68-4498-ba13-1c96164c7c71",
   "metadata": {},
   "outputs": [
    {
     "data": {
      "text/plain": [
       "18"
      ]
     },
     "execution_count": 8,
     "metadata": {},
     "output_type": "execute_result"
    }
   ],
   "source": [
    "anagram_check_char(\"Tom Marvolo Riddle\")"
   ]
  },
  {
   "cell_type": "code",
   "execution_count": 39,
   "id": "6bffe22f-4498-4e4e-b3cf-e67d8d070204",
   "metadata": {},
   "outputs": [],
   "source": [
    "def anagram_check_3(str1, str2):\n",
    "    newStr1 = str1.replace(\" \", \"\").lower()\n",
    "    newStr2 = str2.replace(\" \", \"\").lower()\n",
    "    print(sorted(newStr1))\n",
    "    print(sorted(newStr2))\n",
    "    "
   ]
  },
  {
   "cell_type": "code",
   "execution_count": 40,
   "id": "e1e5d1b0-5d94-44b9-a6a7-646154e864d5",
   "metadata": {},
   "outputs": [
    {
     "name": "stdout",
     "output_type": "stream",
     "text": [
      "['a', 'd', 'd', 'e', 'i', 'l', 'l', 'm', 'm', 'o', 'o', 'o', 'r', 'r', 't', 'v']\n",
      "['a', 'd', 'd', 'e', 'i', 'l', 'l', 'm', 'm', 'o', 'o', 'o', 'r', 'r', 't', 'v']\n"
     ]
    }
   ],
   "source": [
    "anagram_check_3(\"I am Lord Voldemort\", \"Tom Marvolo Riddle\")"
   ]
  },
  {
   "cell_type": "code",
   "execution_count": 41,
   "id": "135a7e7e-174f-4212-bbef-1cfc14628bcc",
   "metadata": {},
   "outputs": [],
   "source": [
    "def anagram_check_4(str1, str2):\n",
    "    newStr1 = str1.replace(\" \", \"\").lower()\n",
    "    newStr2 = str2.replace(\" \", \"\").lower()\n",
    "    return sorted(newStr1) == sorted(newStr2)"
   ]
  },
  {
   "cell_type": "code",
   "execution_count": 42,
   "id": "3e9a0d41-688b-4e36-9da2-94427b66b88b",
   "metadata": {},
   "outputs": [
    {
     "data": {
      "text/plain": [
       "True"
      ]
     },
     "execution_count": 42,
     "metadata": {},
     "output_type": "execute_result"
    }
   ],
   "source": [
    "anagram_check_4(\"I am Lord Voldemort\", \"Tom Marvolo Riddle \")"
   ]
  },
  {
   "cell_type": "code",
   "execution_count": null,
   "id": "904a3568-e900-4003-b8d1-92e5c958acb6",
   "metadata": {},
   "outputs": [],
   "source": []
  }
 ],
 "metadata": {
  "kernelspec": {
   "display_name": "Python 3 (ipykernel)",
   "language": "python",
   "name": "python3"
  },
  "language_info": {
   "codemirror_mode": {
    "name": "ipython",
    "version": 3
   },
   "file_extension": ".py",
   "mimetype": "text/x-python",
   "name": "python",
   "nbconvert_exporter": "python",
   "pygments_lexer": "ipython3",
   "version": "3.12.3"
  }
 },
 "nbformat": 4,
 "nbformat_minor": 5
}

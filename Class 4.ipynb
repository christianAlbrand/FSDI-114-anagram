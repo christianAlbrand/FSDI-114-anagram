{
 "cells": [
  {
   "cell_type": "markdown",
   "id": "708071e5-a1e7-4d90-8fa2-b157bc2d2c85",
   "metadata": {},
   "source": [
    "# Introduction to recursive functions\n",
    "\n",
    "A recursive function is a function that calls itself at least once dyring execution.\n",
    "\n",
    "The exit condition in a recursive function is typically referred to as \"base case\" and it represents a condition we know (for a fact) to be true.\n",
    "\n",
    "when the function calls itself, we can refer to this as the \"recursive case\""
   ]
  },
  {
   "cell_type": "code",
   "execution_count": 5,
   "id": "b9f0e7d5-34f4-48b4-bc57-46a0847e14ef",
   "metadata": {},
   "outputs": [
    {
     "data": {
      "text/plain": [
       "120"
      ]
     },
     "execution_count": 5,
     "metadata": {},
     "output_type": "execute_result"
    }
   ],
   "source": [
    "# A simple example of recursvie functions\n",
    "\n",
    "# The factorial of an integer N is N! and N! = N*(N-1)!\n",
    "\n",
    "# For example, the factorial of 5, which is represented 5! is 5!=5x4! which can be evaluated as 5!= 5x4x3x2x1\n",
    "\n",
    "# O(n) space complexity also this has O(n) time complexity\n",
    "\n",
    "def factorial(n):\n",
    "    # As a mathematical convetion, the factorial of 0 is equal to 1.\n",
    "    if n <1:                  # base case or exit condition\n",
    "        return 1\n",
    "    return n*factorial(n-1)   # recursive case or recursive condition\n",
    "\n",
    "factorial(5)"
   ]
  },
  {
   "cell_type": "code",
   "execution_count": 20,
   "id": "4df22bea-1b3d-4f45-897a-20c740ba4350",
   "metadata": {},
   "outputs": [
    {
     "data": {
      "text/plain": [
       "6765"
      ]
     },
     "execution_count": 20,
     "metadata": {},
     "output_type": "execute_result"
    }
   ],
   "source": [
    "# Challenges with recursion\n",
    "\n",
    "# The Fibonacci sequence\n",
    "\n",
    "# F0 = 0\n",
    "# F1 = 1\n",
    "\n",
    "# Example: 0, 1, 1, 2, 3, 5, 8, 13, 21\n",
    "\n",
    "# FN = F(N-1) + F(N-2)\n",
    "\n",
    "# What if I wanted to know F(30)?\n",
    "\n",
    "# Sub-optimal recursive function\n",
    "\n",
    "# Temporary fix to implement caching for this function:\n",
    "from functools import lru_cache\n",
    "\n",
    "@lru_cache\n",
    "def fibonacci(n):\n",
    "    if n < 2:\n",
    "        return n\n",
    "    return fibonacci(n-1) + fibonacci(n-2)\n",
    "\n",
    "fibonacci(20)"
   ]
  },
  {
   "cell_type": "code",
   "execution_count": 24,
   "id": "2bdee1ca-9a9e-4557-90b9-d1b77ff4dd37",
   "metadata": {},
   "outputs": [
    {
     "data": {
      "text/plain": [
       "3878968454388325633701916308325905312082127714646245106160597214895550139044037097010822916462210669479293452858882973813483102008954982940361430156911478938364216563944106910214505634133706558656238254656700712525929903854933813928836378347518908762970712033337052923107693008518093849801803847813996748881765554653788291644268912980384613778969021502293082475666346224923071883324803280375039130352903304505842701147635242270210934637699104006714174883298422891491273104054328753298044273676822977244987749874555691907703880637046832794811358973739993110106219308149018570815397854379195305617510761053075688783766033667355445258844886241619210553457493675897849027988234351023599844663934853256411952221859563060475364645470760330902420806382584929156452876291575759142343809142302917491088984155209854432486594079793571316841692868039545309545388698114665082066862897420639323438488465240988742395873801976993820317174208932265468879364002630797780058759129671389634214252579116872755600360311370547754724604639987588046985178408674382863125"
      ]
     },
     "execution_count": 24,
     "metadata": {},
     "output_type": "execute_result"
    }
   ],
   "source": [
    "for number in range(0, 5000):\n",
    "    fibonacci(number)\n",
    "\n",
    "fibonacci(5000) # This particular has a time complexity of O(n)"
   ]
  },
  {
   "cell_type": "code",
   "execution_count": 28,
   "id": "3c40f900-8d92-429b-aafa-181127c9f1d0",
   "metadata": {},
   "outputs": [
    {
     "data": {
      "text/plain": [
       "55"
      ]
     },
     "execution_count": 28,
     "metadata": {},
     "output_type": "execute_result"
    }
   ],
   "source": [
    "# Replacin lru_cache with built-in dictionary\n",
    "\n",
    "solutions = dict()\n",
    "\n",
    "def fib(n):\n",
    "    if n in solutions.keys():\n",
    "        return solutions[n]\n",
    "    if n< 2:\n",
    "        return n\n",
    "    solutions[n] = fib(n-1) + fib(n-2)\n",
    "    return fib(n)\n",
    "fib(10)"
   ]
  },
  {
   "cell_type": "markdown",
   "id": "2718d7e6-a4fd-4630-95d8-7d37391a0013",
   "metadata": {},
   "source": [
    "# Balanced parentheses check\n",
    "\n",
    "Given a string consisting solely of the set of characters in { \"(\", \"[\", \"{\", \"}\", \"]\", \")\" } determine if the string is balanced.\n",
    "your function \"balance_check\" should return True if the string is balanced, and False otherwise.\n",
    "\n",
    "## Criteria\n",
    "A string is balanced if all parentheses/brackets/braces close in the same order they were opened.\n",
    "\n",
    "## Examples\n",
    "```\n",
    "Balanced: ((({{{[[[]]]}}})))\n",
    "Balanced: ()()()[[[]]]\n",
    "Not Balanced: (((({))))\n",
    "Not Balanced: ()()()[[[{}{}[}]]]\n",
    "```"
   ]
  },
  {
   "cell_type": "code",
   "execution_count": 83,
   "id": "f0d8e6d1-dab6-40c3-af7b-a084a40a9bfb",
   "metadata": {},
   "outputs": [],
   "source": [
    "def balance_check(char):\n",
    "    balanced = {\"()\", \"{}\", \"[]\"}\n",
    "    open_par = {\"(\", \"{\", \"[\"}\n",
    "    stack = []\n",
    "    if len(char)%2 != 0:\n",
    "        return \"Not Balanced\"\n",
    "    for i in char:\n",
    "        if i in open_par:\n",
    "            stack.append(i)\n",
    "            print(stack)\n",
    "        else:\n",
    "            if not stack:\n",
    "                return \"Not Balanced\"\n",
    "            comb = stack.pop() + i\n",
    "            print(\"Combinations:\",comb)\n",
    "            if comb not in balanced:\n",
    "                return \"Not Balanced\"\n",
    "    if stack:\n",
    "        return \"Not Balanced\"\n",
    "    return \"Is Balanced\"\n",
    "            \n",
    "            \n",
    "\n",
    "# validate balanced char\n",
    "#  iterate in char for open char\n",
    "\n",
    "# 1. Keep track of all possible combinations that are valid.\n",
    "# 2. Keep track of all valid characters in this space.\n",
    "# 3. Check the lenght of the string, and if it contains an odd number of characters, return False\n",
    "# 4. Otherwise, we are going to loop over the recived string.\n",
    "# 4.1. As we loop, retrieve the next character in the string, beginning with the 0th character initially.\n",
    "# 5. Every time we loop, we check if the character is part of the \"openin\" set.\n",
    "# 5.1. If it is, add that character to our stack (push)\n",
    "# 5.2. If it isn't, pop the top character from the satck and compare the combination to the collection of valid combinations.\n",
    "# 5.2.1. If the combination does not exist in our collection, return False.\n",
    "# 6. After looping through the entire string, if the stack is not empty, return False, otherwise return True.\n",
    "\n",
    "    "
   ]
  },
  {
   "cell_type": "code",
   "execution_count": 85,
   "id": "f914eade-bf15-4e34-9fb1-781e9d154d2e",
   "metadata": {},
   "outputs": [
    {
     "name": "stdout",
     "output_type": "stream",
     "text": [
      "['(']\n",
      "['(', '(']\n",
      "['(', '(', '(']\n",
      "Combinations: ()\n",
      "Combinations: ()\n",
      "Combinations: (]\n"
     ]
    },
    {
     "data": {
      "text/plain": [
       "'Not Balanced'"
      ]
     },
     "execution_count": 85,
     "metadata": {},
     "output_type": "execute_result"
    }
   ],
   "source": [
    "balance_check(\"((())]\")\n"
   ]
  },
  {
   "cell_type": "code",
   "execution_count": 80,
   "id": "0b2625e9-47ed-4c8f-98a7-7b11c8550b13",
   "metadata": {},
   "outputs": [],
   "source": [
    "# Extra: Implement (and validate) DoublyLinkedList\n",
    "\n",
    "class DoublyLinkedList:\n",
    "    class __Node:\n",
    "        def __init__(self, datum):\n",
    "            self.data = datum\n",
    "            self.next = None\n",
    "            self.prev = None\n",
    "        \n",
    "    def __init__(self):\n",
    "        self.head = None\n",
    "        self.tail = None\n",
    "        self.count = 0\n",
    "        \n",
    "    def addfirst(self, datum):\n",
    "        new_node = self.__Node(datum)\n",
    "        if not self.head:\n",
    "            self.head = new_node\n",
    "            self.tail = new_node\n",
    "        else:\n",
    "            new_node.next = self.head\n",
    "            self.head.prev = new_node\n",
    "            self.head = new_node\n",
    "        self.count += 1\n",
    "\n",
    "    def addlast(self, datum):\n",
    "        new_node = self.__Node(datum)\n",
    "        if not self.tail:\n",
    "            self.tail = new_node\n",
    "            self.head = new_node\n",
    "        else:\n",
    "            self.tail.next = new_node\n",
    "            new_node.prev = self.tail\n",
    "            self.tail = new_node\n",
    "        self.count += 1\n",
    "        \n",
    "    def remove(self, datum):\n",
    "        current = self.head\n",
    "        prev = None\n",
    "        found = False\n",
    "        while current:\n",
    "            if current.data == datum:\n",
    "                found = True\n",
    "                self.count -= 1\n",
    "                break\n",
    "            prev = current\n",
    "            current = current.next\n",
    "        if found:                                   \n",
    "            if prev:\n",
    "                prev.next = current.next\n",
    "                if current == self.tail:\n",
    "                    self.tail = prev\n",
    "            else:\n",
    "                self.head = self.head.next\n",
    "                if not self.head:\n",
    "                    self.tail = None\n",
    "        else:\n",
    "            raise ValueError(\"Value Not Found\")\n",
    "            \n",
    "    def display(self):\n",
    "        current = self.head\n",
    "        out = \"\"\n",
    "        while current:\n",
    "            out += str(current.data) + \", \"\n",
    "            current = current.next\n",
    "        print(out)"
   ]
  },
  {
   "cell_type": "code",
   "execution_count": 81,
   "id": "09a68da3-c494-4431-a7e8-c6c40fef51e3",
   "metadata": {},
   "outputs": [
    {
     "name": "stdout",
     "output_type": "stream",
     "text": [
      "5, 2, 1, 2, 3, \n",
      "2, 1, 2, 3, \n"
     ]
    }
   ],
   "source": [
    "dll = DoublyLinkedList()\n",
    "\n",
    "dll.addfirst(1)\n",
    "dll.addfirst(2)\n",
    "dll.addfirst(5)\n",
    "dll.addlast(2)\n",
    "dll.addlast(3)\n",
    "\n",
    "dll.display()\n",
    "dll.remove(5)\n",
    "dll.display()"
   ]
  },
  {
   "cell_type": "code",
   "execution_count": null,
   "id": "f1d43419-7e84-4c9d-b8dd-fbc8d97fed64",
   "metadata": {},
   "outputs": [],
   "source": []
  }
 ],
 "metadata": {
  "kernelspec": {
   "display_name": "Python 3 (ipykernel)",
   "language": "python",
   "name": "python3"
  },
  "language_info": {
   "codemirror_mode": {
    "name": "ipython",
    "version": 3
   },
   "file_extension": ".py",
   "mimetype": "text/x-python",
   "name": "python",
   "nbconvert_exporter": "python",
   "pygments_lexer": "ipython3",
   "version": "3.12.3"
  }
 },
 "nbformat": 4,
 "nbformat_minor": 5
}

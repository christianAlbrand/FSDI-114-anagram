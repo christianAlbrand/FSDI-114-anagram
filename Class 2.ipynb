{
 "cells": [
  {
   "cell_type": "markdown",
   "id": "dcb07f91-c15a-45cf-8c71-ae2c59d21a3a",
   "metadata": {},
   "source": [
    "# Data Structures\n",
    "# Stacks and Queues"
   ]
  },
  {
   "cell_type": "code",
   "execution_count": 2,
   "id": "4c971f6b-da84-4e38-9dc2-d9e407fa564f",
   "metadata": {},
   "outputs": [],
   "source": [
    "# Simplified implementation of Stack and Queue\n",
    "# Simplified refers to the fact that these are using built-ins\n",
    "# Note: These are intended to give us a guide on how we could build these from scratch\n",
    "\n",
    "class Stack:\n",
    "    def __init__(self):\n",
    "        self.items = []\n",
    "\n",
    "    def push(self, element):\n",
    "        self.items.append(element)\n",
    "\n",
    "    def pop(self):\n",
    "        return self.items.pop()\n",
    "\n",
    "    # Nice to Have methods\n",
    "\n",
    "    def is_empty(self):\n",
    "        return self.items == []\n",
    "\n",
    "    def size(self):\n",
    "        return len(self.items)\n",
    "\n",
    "    def peek(self):\n",
    "        return self.items[len(self.items)-1]\n",
    "\n",
    "class Queue:\n",
    "    def __init__(self):\n",
    "        self.items = []\n",
    "\n",
    "    def enqueue(self, element):\n",
    "        self.item.insert(0,element)\n",
    "\n",
    "    def dequeue(self):\n",
    "        return self.items.pop()\n",
    "\n",
    "     # Nice to Have methods\n",
    "\n",
    "    def is_empty(self):\n",
    "        return self.items == []\n",
    "\n",
    "    def size(self):\n",
    "        return len(self.items)\n",
    "\n",
    "    def peek(self):\n",
    "        return self.items[len(self.items)-1]\n",
    "    "
   ]
  },
  {
   "cell_type": "code",
   "execution_count": 2,
   "id": "112b836e-8b08-4be9-a371-25f238089097",
   "metadata": {},
   "outputs": [],
   "source": [
    "# From scratch implementation of Stack\n",
    "\n",
    "class StackII:\n",
    "    class __Node:\n",
    "        def __init__(self, datum):\n",
    "            self.data = datum\n",
    "            self.below = None\n",
    "    def __init__(self):\n",
    "        self.top = None\n",
    "\n",
    "    def push(self, element):\n",
    "        new_node = self.__Node(element)\n",
    "        if not self.top:           # this is the same as if self.top == None\n",
    "            self.top = new_node\n",
    "        else:\n",
    "            new_node.below =self.top\n",
    "            self.top = new_node\n",
    "\n",
    "    def pop(self):\n",
    "        if self.top:\n",
    "            datum = self.top.data\n",
    "            self.top = self.top.below\n",
    "            return datum\n",
    "        raise IndexError(\"The stack is empty!\")\n",
    "\n",
    "    def is_empty(self):\n",
    "        return self.top ==None\n",
    "\n",
    "    def size(self):\n",
    "        count = 0\n",
    "        current = self.top\n",
    "        while current:         # while current is not equal to None\n",
    "            count += 1\n",
    "            current = current.below\n",
    "        return count\n",
    "\n",
    "    def peek(self):\n",
    "        return self.top.data"
   ]
  },
  {
   "cell_type": "markdown",
   "id": "91a1fd47-0f7f-4a9a-b534-c0dcab351fdc",
   "metadata": {},
   "source": [
    "Homework Assignment: Stacks and Queues\n",
    "Definitions and Use Cases\n",
    "a. Define what a stack is and provide at least two real-world examples where stacks are used: \n",
    "b. Define what a queue is and provide at least two real-world examples where queues are used.\n",
    "Primary Operations\n",
    "a. List and explain the primary operations performed on a stack.\n",
    "b. List and explain the primary operations performed on a queue.\n",
    "Key Differences\n",
    "Compare and contrast the behavior of stacks and queues in terms of their insertion and removal mechanisms. Use examples to illustrate your explanation.\n",
    "Variations\n",
    "Research and describe at least one variation of a stack (e.g., bounded stack) and one variation of a queue (e.g., circular queue). Explain how they differ from the basic versions.\n",
    "Implementation\n",
    "a. Write pseudocode or explain how a stack can be implemented using an array or a linked list.\n",
    "b. Write pseudocode or explain how a queue can be implemented using an array or a linked list.\n",
    "Time Complexity\n",
    "Discuss the time complexity of common operations (e.g., push, pop, enqueue, dequeue) for stacks and queues. Explain any differences you observe.\n",
    "Real-World Applications\n",
    "Compare how stacks and queues are used in computer science, specifically in areas like memory management, process scheduling, or data buffering.\n",
    "Reversing a Queue with a Stack\n",
    "Explain how you can use a stack to reverse the order of elements in a queue. Provide a step-by-step description or pseudocode.\n",
    "Data Structure Selection\n",
    "Given the following scenarios, decide whether a stack or queue would be more appropriate and justify your answer:\n",
    "a. Undo functionality in a text editor.\n",
    "b. Managing tasks in a printer’s job queue.\n",
    "c. Depth-first traversal of a graph.\n",
    "d. First-come, first-served customer service.\n",
    "Advanced Concepts\n",
    "Research and explain what a deque (double-ended queue) is. How does it differ from a standard queue and a stack? Provide at least one example of its practical use.\n",
    "\n"
   ]
  },
  {
   "cell_type": "code",
   "execution_count": 1,
   "id": "a9d017cd-142f-4549-b8a2-6503236af4bc",
   "metadata": {},
   "outputs": [],
   "source": [
    "# For extra points on the final exam:\n",
    "# Implement QueueII like we did StackII"
   ]
  },
  {
   "cell_type": "code",
   "execution_count": 20,
   "id": "fc44946f-7d4c-414e-b5eb-a42f7a435ca1",
   "metadata": {},
   "outputs": [],
   "source": [
    "class QueueII:\n",
    "    class __Node:\n",
    "        def __init__(self, datum):\n",
    "            self.data = datum\n",
    "            self.next = None\n",
    "    def __init__(self):\n",
    "        self.front = None\n",
    "        self.rear = None\n",
    "\n",
    "    def enqueue(self, element):\n",
    "        new_node = self.__Node(element)\n",
    "        if not self.rear:\n",
    "            self.front= self.rear = new_node\n",
    "        else:\n",
    "            self.rear.next = new_node\n",
    "            self.rear = new_node\n",
    "\n",
    "    def dequeue(self):\n",
    "        if self.front is None:\n",
    "            raise IndexError(\"The Queue is empty!\")\n",
    "        datum = self.front.data\n",
    "        self.front = self.front.next\n",
    "        return datum\n",
    "            "
   ]
  },
  {
   "cell_type": "code",
   "execution_count": 27,
   "id": "b3dae678-8b0d-4c83-9bd8-3353fdab1869",
   "metadata": {},
   "outputs": [
    {
     "name": "stdout",
     "output_type": "stream",
     "text": [
      "10\n"
     ]
    }
   ],
   "source": [
    "queue = QueueII()\n",
    "queue.enqueue(10)\n",
    "queue.enqueue(20)\n",
    "\n",
    "\n",
    "print(queue.dequeue())"
   ]
  },
  {
   "cell_type": "code",
   "execution_count": null,
   "id": "0d6fdf43-2bf5-435f-be3d-8457d03b3c0e",
   "metadata": {},
   "outputs": [],
   "source": []
  }
 ],
 "metadata": {
  "kernelspec": {
   "display_name": "Python 3 (ipykernel)",
   "language": "python",
   "name": "python3"
  },
  "language_info": {
   "codemirror_mode": {
    "name": "ipython",
    "version": 3
   },
   "file_extension": ".py",
   "mimetype": "text/x-python",
   "name": "python",
   "nbconvert_exporter": "python",
   "pygments_lexer": "ipython3",
   "version": "3.12.3"
  }
 },
 "nbformat": 4,
 "nbformat_minor": 5
}
